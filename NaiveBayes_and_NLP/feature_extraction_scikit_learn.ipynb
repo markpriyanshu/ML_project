{
 "cells": [
  {
   "cell_type": "code",
   "execution_count": 31,
   "id": "89c1bc31",
   "metadata": {},
   "outputs": [],
   "source": [
    "text = ['This is a line',\n",
    "       'This is another line',\n",
    "       'Completely different line']"
   ]
  },
  {
   "cell_type": "code",
   "execution_count": 32,
   "id": "a8e8160e",
   "metadata": {},
   "outputs": [],
   "source": [
    "from sklearn.feature_extraction.text import CountVectorizer"
   ]
  },
  {
   "cell_type": "code",
   "execution_count": 33,
   "id": "d7d423b5",
   "metadata": {},
   "outputs": [],
   "source": [
    "#help(CountVectorizer)"
   ]
  },
  {
   "cell_type": "markdown",
   "id": "67604cd4",
   "metadata": {},
   "source": [
    "## text to bag of words"
   ]
  },
  {
   "cell_type": "code",
   "execution_count": 42,
   "id": "f8ebe821",
   "metadata": {},
   "outputs": [],
   "source": [
    "cv = CountVectorizer()"
   ]
  },
  {
   "cell_type": "code",
   "execution_count": 43,
   "id": "b241401e",
   "metadata": {},
   "outputs": [],
   "source": [
    "# cv = CountVectorizer(stop_words='english')"
   ]
  },
  {
   "cell_type": "code",
   "execution_count": 44,
   "id": "72a827a1",
   "metadata": {},
   "outputs": [],
   "source": [
    "sparse_matrix = cv.fit_transform(text) # it will create bag of words (BOW) from text"
   ]
  },
  {
   "cell_type": "code",
   "execution_count": 45,
   "id": "0efbb1ba",
   "metadata": {},
   "outputs": [
    {
     "data": {
      "text/plain": [
       "matrix([[0, 0, 0, 1, 1, 1],\n",
       "        [1, 0, 0, 1, 1, 1],\n",
       "        [0, 1, 1, 0, 1, 0]], dtype=int64)"
      ]
     },
     "execution_count": 45,
     "metadata": {},
     "output_type": "execute_result"
    }
   ],
   "source": [
    "sparse_matrix.todense()"
   ]
  },
  {
   "cell_type": "code",
   "execution_count": 46,
   "id": "da4963a7",
   "metadata": {},
   "outputs": [
    {
     "data": {
      "text/plain": [
       "{'this': 5, 'is': 3, 'line': 4, 'another': 0, 'completely': 1, 'different': 2}"
      ]
     },
     "execution_count": 46,
     "metadata": {},
     "output_type": "execute_result"
    }
   ],
   "source": [
    "cv.vocabulary_"
   ]
  },
  {
   "cell_type": "markdown",
   "id": "c2c6a962",
   "metadata": {},
   "source": [
    "## BOW to TFIDF"
   ]
  },
  {
   "cell_type": "code",
   "execution_count": 47,
   "id": "0649d9bc",
   "metadata": {},
   "outputs": [],
   "source": [
    "from sklearn.feature_extraction.text import TfidfTransformer"
   ]
  },
  {
   "cell_type": "code",
   "execution_count": 48,
   "id": "494bbadf",
   "metadata": {},
   "outputs": [],
   "source": [
    "tf = TfidfTransformer()"
   ]
  },
  {
   "cell_type": "code",
   "execution_count": 51,
   "id": "62369765",
   "metadata": {},
   "outputs": [],
   "source": [
    "results = tf.fit_transform(sparse_matrix) # BOW --> TFIDF"
   ]
  },
  {
   "cell_type": "code",
   "execution_count": 55,
   "id": "10e96f53",
   "metadata": {},
   "outputs": [
    {
     "data": {
      "text/plain": [
       "array([[0.        , 0.        , 0.        , 0.61980538, 0.48133417,\n",
       "        0.61980538],\n",
       "       [0.63174505, 0.        , 0.        , 0.4804584 , 0.37311881,\n",
       "        0.4804584 ],\n",
       "       [0.        , 0.65249088, 0.65249088, 0.        , 0.38537163,\n",
       "        0.        ]])"
      ]
     },
     "execution_count": 55,
     "metadata": {},
     "output_type": "execute_result"
    }
   ],
   "source": [
    "results.todense()"
   ]
  },
  {
   "cell_type": "code",
   "execution_count": 56,
   "id": "b16234fd",
   "metadata": {},
   "outputs": [
    {
     "data": {
      "text/plain": [
       "array([[0.        , 0.        , 0.        , 0.61980538, 0.48133417,\n",
       "        0.61980538],\n",
       "       [0.63174505, 0.        , 0.        , 0.4804584 , 0.37311881,\n",
       "        0.4804584 ],\n",
       "       [0.        , 0.65249088, 0.65249088, 0.        , 0.38537163,\n",
       "        0.        ]])"
      ]
     },
     "execution_count": 56,
     "metadata": {},
     "output_type": "execute_result"
    }
   ],
   "source": [
    "results.toarray()"
   ]
  },
  {
   "cell_type": "markdown",
   "id": "91cbea4c",
   "metadata": {},
   "source": [
    "## Directly from text to TFIDF"
   ]
  },
  {
   "cell_type": "code",
   "execution_count": 57,
   "id": "9de01487",
   "metadata": {},
   "outputs": [],
   "source": [
    "from sklearn.feature_extraction.text import TfidfVectorizer"
   ]
  },
  {
   "cell_type": "code",
   "execution_count": 58,
   "id": "1c5a7e27",
   "metadata": {},
   "outputs": [],
   "source": [
    "tfidf = TfidfVectorizer()"
   ]
  },
  {
   "cell_type": "code",
   "execution_count": 61,
   "id": "067fec13",
   "metadata": {},
   "outputs": [],
   "source": [
    "tf_result = tfidf.fit_transform(text)"
   ]
  },
  {
   "cell_type": "code",
   "execution_count": 62,
   "id": "70f2e5f6",
   "metadata": {},
   "outputs": [
    {
     "data": {
      "text/plain": [
       "array([[0.        , 0.        , 0.        , 0.61980538, 0.48133417,\n",
       "        0.61980538],\n",
       "       [0.63174505, 0.        , 0.        , 0.4804584 , 0.37311881,\n",
       "        0.4804584 ],\n",
       "       [0.        , 0.65249088, 0.65249088, 0.        , 0.38537163,\n",
       "        0.        ]])"
      ]
     },
     "execution_count": 62,
     "metadata": {},
     "output_type": "execute_result"
    }
   ],
   "source": [
    "tf_result.toarray()"
   ]
  },
  {
   "cell_type": "code",
   "execution_count": null,
   "id": "cbda1e1a",
   "metadata": {},
   "outputs": [],
   "source": []
  }
 ],
 "metadata": {
  "kernelspec": {
   "display_name": "Python 3 (ipykernel)",
   "language": "python",
   "name": "python3"
  },
  "language_info": {
   "codemirror_mode": {
    "name": "ipython",
    "version": 3
   },
   "file_extension": ".py",
   "mimetype": "text/x-python",
   "name": "python",
   "nbconvert_exporter": "python",
   "pygments_lexer": "ipython3",
   "version": "3.10.6"
  }
 },
 "nbformat": 4,
 "nbformat_minor": 5
}
