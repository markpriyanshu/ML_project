{
 "cells": [
  {
   "cell_type": "code",
   "execution_count": 46,
   "id": "2c6cda4c",
   "metadata": {},
   "outputs": [],
   "source": [
    "with open('One.txt') as mytext:\n",
    "    words_one = mytext.read().lower().split()\n",
    "    uni_words_one = set(words_one) \n"
   ]
  },
  {
   "cell_type": "code",
   "execution_count": 48,
   "id": "af0892e4",
   "metadata": {},
   "outputs": [
    {
     "data": {
      "text/plain": [
       "{'a',\n",
       " 'about',\n",
       " 'animals',\n",
       " 'are',\n",
       " 'canine',\n",
       " 'dogs',\n",
       " 'furry',\n",
       " 'is',\n",
       " 'our',\n",
       " 'pets',\n",
       " 'story',\n",
       " 'this'}"
      ]
     },
     "execution_count": 48,
     "metadata": {},
     "output_type": "execute_result"
    }
   ],
   "source": [
    "uni_words_one"
   ]
  },
  {
   "cell_type": "code",
   "execution_count": 49,
   "id": "02f5da96",
   "metadata": {},
   "outputs": [],
   "source": [
    "with open('Two.txt') as mytext:\n",
    "    words_two = mytext.read().lower().split()\n",
    "    uni_words_two = set(words_two)"
   ]
  },
  {
   "cell_type": "code",
   "execution_count": 50,
   "id": "24e87690",
   "metadata": {},
   "outputs": [
    {
     "data": {
      "text/plain": [
       "{'a',\n",
       " 'about',\n",
       " 'catching',\n",
       " 'fun',\n",
       " 'is',\n",
       " 'popular',\n",
       " 'sport',\n",
       " 'story',\n",
       " 'surfing',\n",
       " 'this',\n",
       " 'water',\n",
       " 'waves'}"
      ]
     },
     "execution_count": 50,
     "metadata": {},
     "output_type": "execute_result"
    }
   ],
   "source": [
    "uni_words_two"
   ]
  },
  {
   "cell_type": "code",
   "execution_count": 51,
   "id": "9cf68298",
   "metadata": {},
   "outputs": [],
   "source": [
    "all_uni_words = set()"
   ]
  },
  {
   "cell_type": "code",
   "execution_count": 52,
   "id": "01434cbe",
   "metadata": {},
   "outputs": [],
   "source": [
    "all_uni_words.update(uni_words_one)"
   ]
  },
  {
   "cell_type": "code",
   "execution_count": 53,
   "id": "89b42914",
   "metadata": {},
   "outputs": [],
   "source": [
    "all_uni_words.update(uni_words_two)"
   ]
  },
  {
   "cell_type": "code",
   "execution_count": 54,
   "id": "a04dfec6",
   "metadata": {},
   "outputs": [
    {
     "data": {
      "text/plain": [
       "{'a',\n",
       " 'about',\n",
       " 'animals',\n",
       " 'are',\n",
       " 'canine',\n",
       " 'catching',\n",
       " 'dogs',\n",
       " 'fun',\n",
       " 'furry',\n",
       " 'is',\n",
       " 'our',\n",
       " 'pets',\n",
       " 'popular',\n",
       " 'sport',\n",
       " 'story',\n",
       " 'surfing',\n",
       " 'this',\n",
       " 'water',\n",
       " 'waves'}"
      ]
     },
     "execution_count": 54,
     "metadata": {},
     "output_type": "execute_result"
    }
   ],
   "source": [
    "all_uni_words"
   ]
  },
  {
   "cell_type": "code",
   "execution_count": 55,
   "id": "6a617b48",
   "metadata": {},
   "outputs": [],
   "source": [
    "full_vocab = dict()\n",
    "i =0\n",
    "for word in all_uni_words:\n",
    "    full_vocab[word] = i\n",
    "    i = i+1\n",
    "    "
   ]
  },
  {
   "cell_type": "code",
   "execution_count": 56,
   "id": "7b602e37",
   "metadata": {},
   "outputs": [
    {
     "data": {
      "text/plain": [
       "{'popular': 0,\n",
       " 'our': 1,\n",
       " 'is': 2,\n",
       " 'furry': 3,\n",
       " 'pets': 4,\n",
       " 'waves': 5,\n",
       " 'are': 6,\n",
       " 'canine': 7,\n",
       " 'water': 8,\n",
       " 'about': 9,\n",
       " 'story': 10,\n",
       " 'dogs': 11,\n",
       " 'this': 12,\n",
       " 'surfing': 13,\n",
       " 'fun': 14,\n",
       " 'sport': 15,\n",
       " 'a': 16,\n",
       " 'catching': 17,\n",
       " 'animals': 18}"
      ]
     },
     "execution_count": 56,
     "metadata": {},
     "output_type": "execute_result"
    }
   ],
   "source": [
    "full_vocab"
   ]
  },
  {
   "cell_type": "code",
   "execution_count": 72,
   "id": "0deb3a6f",
   "metadata": {},
   "outputs": [],
   "source": [
    "one_freq = [0]*len(full_vocab)\n",
    "two_freq = [0]*len(full_vocab)\n",
    "all_words = ['']*len(full_vocab)"
   ]
  },
  {
   "cell_type": "code",
   "execution_count": 71,
   "id": "754b1915",
   "metadata": {},
   "outputs": [
    {
     "data": {
      "text/plain": [
       "[0, 0, 0, 0, 0, 0, 0, 0, 0, 0, 0, 0, 0, 0, 0, 0, 0, 0, 0]"
      ]
     },
     "execution_count": 71,
     "metadata": {},
     "output_type": "execute_result"
    }
   ],
   "source": [
    "one_freq"
   ]
  },
  {
   "cell_type": "code",
   "execution_count": 74,
   "id": "cc3daeef",
   "metadata": {},
   "outputs": [],
   "source": [
    "with open('One.txt') as f:\n",
    "    one_text = f.read().lower().split()"
   ]
  },
  {
   "cell_type": "code",
   "execution_count": 75,
   "id": "24347e39",
   "metadata": {},
   "outputs": [
    {
     "data": {
      "text/plain": [
       "['this',\n",
       " 'is',\n",
       " 'a',\n",
       " 'story',\n",
       " 'about',\n",
       " 'dogs',\n",
       " 'our',\n",
       " 'canine',\n",
       " 'pets',\n",
       " 'dogs',\n",
       " 'are',\n",
       " 'furry',\n",
       " 'animals']"
      ]
     },
     "execution_count": 75,
     "metadata": {},
     "output_type": "execute_result"
    }
   ],
   "source": [
    "one_text"
   ]
  },
  {
   "cell_type": "code",
   "execution_count": 85,
   "id": "09b0f7ad",
   "metadata": {},
   "outputs": [],
   "source": [
    "for word in one_text:\n",
    "    word_index = full_vocab[word]\n",
    "    one_freq[word_index] += 1"
   ]
  },
  {
   "cell_type": "code",
   "execution_count": 86,
   "id": "dd621034",
   "metadata": {},
   "outputs": [
    {
     "data": {
      "text/plain": [
       "[0, 1, 1, 1, 1, 0, 1, 1, 0, 1, 1, 2, 1, 0, 0, 0, 1, 0, 1]"
      ]
     },
     "execution_count": 86,
     "metadata": {},
     "output_type": "execute_result"
    }
   ],
   "source": [
    "one_freq"
   ]
  },
  {
   "cell_type": "code",
   "execution_count": 87,
   "id": "bb68f359",
   "metadata": {},
   "outputs": [],
   "source": [
    "with open('Two.txt') as f:\n",
    "    two_txt = f.read().lower().split()"
   ]
  },
  {
   "cell_type": "code",
   "execution_count": 88,
   "id": "b3e171b6",
   "metadata": {},
   "outputs": [
    {
     "data": {
      "text/plain": [
       "['this',\n",
       " 'story',\n",
       " 'is',\n",
       " 'about',\n",
       " 'surfing',\n",
       " 'catching',\n",
       " 'waves',\n",
       " 'is',\n",
       " 'fun',\n",
       " 'surfing',\n",
       " 'is',\n",
       " 'a',\n",
       " 'popular',\n",
       " 'water',\n",
       " 'sport']"
      ]
     },
     "execution_count": 88,
     "metadata": {},
     "output_type": "execute_result"
    }
   ],
   "source": [
    "two_txt"
   ]
  },
  {
   "cell_type": "code",
   "execution_count": 89,
   "id": "13c1d50f",
   "metadata": {},
   "outputs": [],
   "source": [
    "for word in two_txt:\n",
    "    word_index = full_vocab[word]\n",
    "    two_freq[word_index] +=1"
   ]
  },
  {
   "cell_type": "code",
   "execution_count": 90,
   "id": "5ed53716",
   "metadata": {},
   "outputs": [
    {
     "data": {
      "text/plain": [
       "[1, 0, 3, 0, 0, 1, 0, 0, 1, 1, 1, 0, 1, 2, 1, 1, 1, 1, 0]"
      ]
     },
     "execution_count": 90,
     "metadata": {},
     "output_type": "execute_result"
    }
   ],
   "source": [
    "two_freq"
   ]
  },
  {
   "cell_type": "code",
   "execution_count": 91,
   "id": "83dbbecc",
   "metadata": {},
   "outputs": [],
   "source": [
    "for word in full_vocab:\n",
    "    word_index = full_vocab[word]\n",
    "    all_words[word_index] = word"
   ]
  },
  {
   "cell_type": "code",
   "execution_count": 92,
   "id": "ab17c53c",
   "metadata": {},
   "outputs": [
    {
     "data": {
      "text/plain": [
       "['popular',\n",
       " 'our',\n",
       " 'is',\n",
       " 'furry',\n",
       " 'pets',\n",
       " 'waves',\n",
       " 'are',\n",
       " 'canine',\n",
       " 'water',\n",
       " 'about',\n",
       " 'story',\n",
       " 'dogs',\n",
       " 'this',\n",
       " 'surfing',\n",
       " 'fun',\n",
       " 'sport',\n",
       " 'a',\n",
       " 'catching',\n",
       " 'animals']"
      ]
     },
     "execution_count": 92,
     "metadata": {},
     "output_type": "execute_result"
    }
   ],
   "source": [
    "all_words"
   ]
  },
  {
   "cell_type": "code",
   "execution_count": 93,
   "id": "a9b27f64",
   "metadata": {},
   "outputs": [],
   "source": [
    "import pandas as pd"
   ]
  },
  {
   "cell_type": "code",
   "execution_count": 94,
   "id": "c78013d1",
   "metadata": {},
   "outputs": [],
   "source": [
    "bow = pd.DataFrame(data = [one_freq,two_freq] , columns=all_words)"
   ]
  },
  {
   "cell_type": "code",
   "execution_count": 95,
   "id": "4f684cea",
   "metadata": {},
   "outputs": [
    {
     "data": {
      "text/html": [
       "<div>\n",
       "<style scoped>\n",
       "    .dataframe tbody tr th:only-of-type {\n",
       "        vertical-align: middle;\n",
       "    }\n",
       "\n",
       "    .dataframe tbody tr th {\n",
       "        vertical-align: top;\n",
       "    }\n",
       "\n",
       "    .dataframe thead th {\n",
       "        text-align: right;\n",
       "    }\n",
       "</style>\n",
       "<table border=\"1\" class=\"dataframe\">\n",
       "  <thead>\n",
       "    <tr style=\"text-align: right;\">\n",
       "      <th></th>\n",
       "      <th>popular</th>\n",
       "      <th>our</th>\n",
       "      <th>is</th>\n",
       "      <th>furry</th>\n",
       "      <th>pets</th>\n",
       "      <th>waves</th>\n",
       "      <th>are</th>\n",
       "      <th>canine</th>\n",
       "      <th>water</th>\n",
       "      <th>about</th>\n",
       "      <th>story</th>\n",
       "      <th>dogs</th>\n",
       "      <th>this</th>\n",
       "      <th>surfing</th>\n",
       "      <th>fun</th>\n",
       "      <th>sport</th>\n",
       "      <th>a</th>\n",
       "      <th>catching</th>\n",
       "      <th>animals</th>\n",
       "    </tr>\n",
       "  </thead>\n",
       "  <tbody>\n",
       "    <tr>\n",
       "      <th>0</th>\n",
       "      <td>0</td>\n",
       "      <td>1</td>\n",
       "      <td>1</td>\n",
       "      <td>1</td>\n",
       "      <td>1</td>\n",
       "      <td>0</td>\n",
       "      <td>1</td>\n",
       "      <td>1</td>\n",
       "      <td>0</td>\n",
       "      <td>1</td>\n",
       "      <td>1</td>\n",
       "      <td>2</td>\n",
       "      <td>1</td>\n",
       "      <td>0</td>\n",
       "      <td>0</td>\n",
       "      <td>0</td>\n",
       "      <td>1</td>\n",
       "      <td>0</td>\n",
       "      <td>1</td>\n",
       "    </tr>\n",
       "    <tr>\n",
       "      <th>1</th>\n",
       "      <td>1</td>\n",
       "      <td>0</td>\n",
       "      <td>3</td>\n",
       "      <td>0</td>\n",
       "      <td>0</td>\n",
       "      <td>1</td>\n",
       "      <td>0</td>\n",
       "      <td>0</td>\n",
       "      <td>1</td>\n",
       "      <td>1</td>\n",
       "      <td>1</td>\n",
       "      <td>0</td>\n",
       "      <td>1</td>\n",
       "      <td>2</td>\n",
       "      <td>1</td>\n",
       "      <td>1</td>\n",
       "      <td>1</td>\n",
       "      <td>1</td>\n",
       "      <td>0</td>\n",
       "    </tr>\n",
       "  </tbody>\n",
       "</table>\n",
       "</div>"
      ],
      "text/plain": [
       "   popular  our  is  furry  pets  waves  are  canine  water  about  story  \\\n",
       "0        0    1   1      1     1      0    1       1      0      1      1   \n",
       "1        1    0   3      0     0      1    0       0      1      1      1   \n",
       "\n",
       "   dogs  this  surfing  fun  sport  a  catching  animals  \n",
       "0     2     1        0    0      0  1         0        1  \n",
       "1     0     1        2    1      1  1         1        0  "
      ]
     },
     "execution_count": 95,
     "metadata": {},
     "output_type": "execute_result"
    }
   ],
   "source": [
    "bow # bag_of_words"
   ]
  },
  {
   "cell_type": "code",
   "execution_count": null,
   "id": "09df2f51",
   "metadata": {},
   "outputs": [],
   "source": []
  }
 ],
 "metadata": {
  "kernelspec": {
   "display_name": "Python 3 (ipykernel)",
   "language": "python",
   "name": "python3"
  },
  "language_info": {
   "codemirror_mode": {
    "name": "ipython",
    "version": 3
   },
   "file_extension": ".py",
   "mimetype": "text/x-python",
   "name": "python",
   "nbconvert_exporter": "python",
   "pygments_lexer": "ipython3",
   "version": "3.10.6"
  }
 },
 "nbformat": 4,
 "nbformat_minor": 5
}
